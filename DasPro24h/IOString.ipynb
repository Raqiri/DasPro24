{
 "cells": [
  {
   "cell_type": "code",
   "execution_count": 7,
   "id": "41246706-e977-4370-b151-a2579d3d6e25",
   "metadata": {},
   "outputs": [
    {
     "name": "stdin",
     "output_type": "stream",
     "text": [
      "isikan nama anda: ok\n"
     ]
    },
    {
     "name": "stdout",
     "output_type": "stream",
     "text": [
      "selamat datang ok\n",
      "ini adalah urutang angka:\n",
      "1 2 3\n",
      "A-B-C\n"
     ]
    }
   ],
   "source": [
    "name = input(\"isikan nama anda:\")\n",
    "\n",
    "print(\"selamat datang\",name)\n",
    "print(\"ini adalah urutang angka:\")\n",
    "print(\"1\", end=' ')\n",
    "print(\"2\", end=' ')\n",
    "print(\"3\")\n",
    "print(\"A\",\"B\",\"C\",sep='-')"
   ]
  },
  {
   "cell_type": "markdown",
   "id": "d2655295-3627-4053-894c-42035a17911e",
   "metadata": {},
   "source": [
    "<h1>STRING FORMAT</h1>"
   ]
  },
  {
   "cell_type": "code",
   "execution_count": 16,
   "id": "65eadc4f-0936-49de-a8a5-52cb6ba3919e",
   "metadata": {},
   "outputs": [
    {
     "name": "stdin",
     "output_type": "stream",
     "text": [
      "isikan bilangan 1: 9\n",
      "isikan bilangan 2: 8\n"
     ]
    },
    {
     "name": "stdout",
     "output_type": "stream",
     "text": [
      "hasil penjumlahan 9 + 8 = 17\n",
      "hasil penjumlahan 9 + 8 = 17\n"
     ]
    }
   ],
   "source": [
    "val1 = int(input(\"isikan bilangan 1:\"))\n",
    "val2 = int(input(\"isikan bilangan 2:\"))\n",
    "\n",
    "print(\"hasil penjumlahan\",val1,\"+\", val2,\"=\",val1+val2)\n",
    "print(\"hasil penjumlahan {} + {} = {}\".format(val1,val2,val1+val2))"
   ]
  },
  {
   "cell_type": "markdown",
   "id": "659aa800-56e0-4881-b17c-9fcd67335cda",
   "metadata": {},
   "source": [
    "<H1>FORMAT INDEX</H1>"
   ]
  },
  {
   "cell_type": "code",
   "execution_count": 26,
   "id": "5743312a-8073-463b-b0f0-ef8802293121",
   "metadata": {},
   "outputs": [
    {
     "name": "stdin",
     "output_type": "stream",
     "text": [
      "isikan nama awal: muhammad\n",
      "isikan nama tengah: rahman\n",
      "isikan nama akhir: qodiri\n"
     ]
    },
    {
     "name": "stdout",
     "output_type": "stream",
     "text": [
      "nama lengkap: muhammad rahman qodiri\n",
      "nama lengkap: muhammad qodiri rahman\n",
      "nama lengkap: muhammad rahman qodiri\n"
     ]
    }
   ],
   "source": [
    "fName = input(\"isikan nama awal:\")\n",
    "mName = input(\"isikan nama tengah:\")\n",
    "lName = input(\"isikan nama akhir:\")\n",
    "\n",
    "print(\"nama lengkap: {} {} {}\".format(fName,mName,lName))\n",
    "print(\"nama lengkap: {0} {2} {1}\".format(fName,mName,lName))\n",
    "#menggunakan key variable\n",
    "print(\"nama lengkap: {f} {m} {l}\".format(f=fName,m=mName,l=lName))"
   ]
  },
  {
   "cell_type": "markdown",
   "id": "4eaf39c3-4ead-4ad0-959e-ba56a2780428",
   "metadata": {},
   "source": [
    "<h4>Slicing</h4><br>"
   ]
  },
  {
   "cell_type": "code",
   "execution_count": 37,
   "id": "52bce10e-c485-4c60-898b-a8193d9b85ef",
   "metadata": {},
   "outputs": [
    {
     "name": "stdin",
     "output_type": "stream",
     "text": [
      "isikan kalimat: Bagong Racing\n"
     ]
    },
    {
     "name": "stdout",
     "output_type": "stream",
     "text": [
      "karakter ke 2 adalah: a\n",
      "karakter ke 3 dan seterusnya: gong Racing\n",
      "karakter ke 2 sampai ke 4: ago\n",
      "karakter paling akhir adalah: g\n",
      "kalimat dibalik menjadi: gnicaR gnogaB\n"
     ]
    }
   ],
   "source": [
    "kalimat = input(\"isikan kalimat:\")\n",
    "#mencetak karakter ke 2\n",
    "print(\"karakter ke 2 adalah:\" ,kalimat[1])\n",
    "#mencetak karakter ke  3 sampai seterusnya\n",
    "print(\"karakter ke 3 dan seterusnya:\" ,kalimat[2:])\n",
    "#mencetak karakter ke 2 sampai ke 4\n",
    "print(\"karakter ke 2 sampai ke 4:\" ,kalimat[1:4])\n",
    "#mencetak kalimat paling akhir\n",
    "print(\"karakter paling akhir adalah:\" ,kalimat[-1])\n",
    "#reverse\n",
    "print(\"kalimat dibalik menjadi:\" ,kalimat[::-1])"
   ]
  },
  {
   "cell_type": "markdown",
   "id": "d1e33296-1d6e-46df-bb1b-e253b4f8658f",
   "metadata": {},
   "source": [
    "<h3>FUNGSI STRING</h3>"
   ]
  },
  {
   "cell_type": "code",
   "execution_count": 69,
   "id": "554e3d7d-5f55-4f91-9ebd-4344ad3541df",
   "metadata": {},
   "outputs": [
    {
     "name": "stdout",
     "output_type": "stream",
     "text": [
      "Nama awal : Budi\n",
      "nama akhir : Siregar\n",
      "gelar : S.KOM\n",
      "-1\n"
     ]
    },
    {
     "name": "stdin",
     "output_type": "stream",
     "text": [
      "isikan email anda: dogi@gmail.com\n"
     ]
    },
    {
     "name": "stdout",
     "output_type": "stream",
     "text": [
      "A Valid email\n"
     ]
    }
   ],
   "source": [
    "namaLengkap = \"Budi Siregar S.KOM\"\n",
    "nama = namaLengkap.split(' ')\n",
    "print(\"Nama awal :\", nama[0])\n",
    "print(\"nama akhir :\", nama[1])\n",
    "print(\"gelar :\", nama[2])\n",
    "\n",
    "#fungsi find\n",
    "#Jika ketemu, mengembalikan indeks dari posisi karakter yang dicari\n",
    "#jika tidak akan menghasilkan -1\n",
    "nomorPlate = \"T013RUT\"\n",
    "cari = nomorPlate.find(\"f\")\n",
    "print(cari)\n",
    "\n",
    "#buatlah program untuk memvalidasi email\n",
    "#Valid -> mempunyai tanda @ dan . adi@gmail.com\n",
    "#Posisi @ HARUS DI SISI KIRI .\n",
    "\n",
    "email = input(\"isikan email anda:\")\n",
    "findAt = email.find(\"@\")\n",
    "findPeriod = email.find(\".\")\n",
    "\n",
    "validasi = \"A Valid email\" if findAt != -1 and findPeriod != -1 and findAt < findPeriod else \"Not a valid email\"\n",
    "print(validasi)\n"
   ]
  },
  {
   "cell_type": "code",
   "execution_count": 109,
   "id": "6a8bdabe-0d2f-47a5-998c-6bb13d5b3572",
   "metadata": {},
   "outputs": [
    {
     "name": "stdout",
     "output_type": "stream",
     "text": [
      "nilai acak pecahan :0.03576907601383861\n",
      "nilai acak antara 0-100: 50\n",
      "sekarang bulan:jun\n",
      "berapakah hasil dari 0.03576907601383861+8? \n"
     ]
    },
    {
     "name": "stdin",
     "output_type": "stream",
     "text": [
      "isikan jawaban anda: 80\n"
     ]
    },
    {
     "name": "stdout",
     "output_type": "stream",
     "text": [
      "anda salah\n"
     ]
    }
   ],
   "source": [
    "#Fungsi string random bilangan\n",
    "from random import random #float\n",
    "nilai = random()\n",
    "#fstring\n",
    "print(f\"nilai acak pecahan :{nilai}\")\n",
    "\n",
    "from random import randint\n",
    "intNilai = randint(0,100)\n",
    "print(f\"nilai acak antara 0-100: {intNilai}\")\n",
    "\n",
    "from random import choice\n",
    "month = [\"jan\",\"feb\",\"mar\",\"apr\",\"mei\",\"jun\",\"jul\",\"agu\",\"sep\",\"okt\",\"nov\",\"des\"]\n",
    "day = [[\"mon\",\"1\"],[\"tue\",\"2\"],[\"wed\",\"3\"],[\"thu\",\"4\"],[\"fri\",\"5\"],[\"sat\",\"6\"]]\n",
    "cMonth = choice(month)\n",
    "cDay = choice(day)\n",
    "print(f\"sekarang bulan:{cMonth}\")\n",
    "\n",
    "nilai1 = randint(0,100)\n",
    "nilai2 = randint(0,100)\n",
    "print(f\"berapakah hasil dari {nilai}+{nilai2}? \")\n",
    "answer = int(input(\"isikan jawaban anda:\"))\n",
    "check = \"anda benar!!\" if nilai1 + nilai2 == answer else \"anda salah\"\n",
    "print(check)"
   ]
  },
  {
   "cell_type": "code",
   "execution_count": 133,
   "id": "d8e2b0c1-d0dd-46ce-a653-d125bada583a",
   "metadata": {},
   "outputs": [
    {
     "name": "stdout",
     "output_type": "stream",
     "text": [
      "apa arti dari drink?\n"
     ]
    },
    {
     "name": "stdin",
     "output_type": "stream",
     "text": [
      "isikan jawaban: minum\n"
     ]
    },
    {
     "name": "stdout",
     "output_type": "stream",
     "text": [
      "anda benar!!\n"
     ]
    }
   ],
   "source": [
    "from random import choice\n",
    "\n",
    "kamus = [[\"eat\",\"makan\"],[\"drink\",\"minum\"],[\"reading\",\"membaca\"]]\n",
    "cKamus = choice(kamus)\n",
    "print(f\"apa arti dari {cKamus[0]}?\")\n",
    "jawab = input(\"isikan jawaban:\")\n",
    "check = \"anda benar!!\" if jawab.lower() == cKamus[1].lower() else \"anda salah\"\n",
    "print(check)"
   ]
  }
 ],
 "metadata": {
  "kernelspec": {
   "display_name": "Python [conda env:base] *",
   "language": "python",
   "name": "conda-base-py"
  },
  "language_info": {
   "codemirror_mode": {
    "name": "ipython",
    "version": 3
   },
   "file_extension": ".py",
   "mimetype": "text/x-python",
   "name": "python",
   "nbconvert_exporter": "python",
   "pygments_lexer": "ipython3",
   "version": "3.12.7"
  }
 },
 "nbformat": 4,
 "nbformat_minor": 5
}
