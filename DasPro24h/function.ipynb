{
 "cells": [
  {
   "cell_type": "code",
   "execution_count": 1,
   "id": "b4825915-1c6c-4408-8c66-641625918e60",
   "metadata": {},
   "outputs": [
    {
     "name": "stdout",
     "output_type": "stream",
     "text": [
      "UKA ATNIC UMAK\n"
     ]
    }
   ],
   "source": [
    "def reverse_per_kata(kalimat):\n",
    "    # Memisahkan kalimat menjadi daftar kata\n",
    "    kata = kalimat.split()\n",
    "    # Membalik setiap kata dalam daftar\n",
    "    kata_balik = [word[::-1] for word in kata]\n",
    "    # Menggabungkan kembali kata-kata yang sudah dibalik menjadi kalimat\n",
    "    return ' '.join(kata_balik)\n",
    "\n",
    "# Contoh uji\n",
    "print(reverse_per_kata(\"AKU CINTA KAMU\"))  # Output: \"UKA ATNIC UMAK\"\n"
   ]
  },
  {
   "cell_type": "code",
   "execution_count": 7,
   "id": "0beada06-6b34-4b98-b6d5-d3cbe8cfb2b2",
   "metadata": {},
   "outputs": [
    {
     "name": "stdout",
     "output_type": "stream",
     "text": [
      "PYTHON HARI BELAJAR SEDANG INI\n"
     ]
    }
   ],
   "source": [
    "def urutkan_kalimat(kalimat, urutan):\n",
    "    # Memisahkan kalimat menjadi daftar kata\n",
    "    kata = kalimat.split()\n",
    "    # Mengurutkan kata berdasarkan urutan yang diberikan\n",
    "    kata_urut = [kata[i - 1] for i in urutan]  # Menggunakan i-1 karena urutan dimulai dari 1\n",
    "    # Menggabungkan kembali kata-kata yang sudah diurutkan menjadi kalimat\n",
    "    return ' '.join(kata_urut)\n",
    "\n",
    "# Contoh uji\n",
    "print(urutkan_kalimat(\"HARI INI SEDANG BELAJAR PYTHON\", [5, 1, 4, 3, 2]))  # Output: \"PYTHON HARI BELAJAR SEDANG INI\"\n"
   ]
  },
  {
   "cell_type": "code",
   "execution_count": 9,
   "id": "3dea7d1f-a21d-4f06-b0ab-b998186c44ce",
   "metadata": {},
   "outputs": [
    {
     "name": "stdout",
     "output_type": "stream",
     "text": [
      "Ak|_| C1nt4 K4m|_|\n",
      "4ku Cinta Kamu\n"
     ]
    }
   ],
   "source": [
    "def ganti_vokal(kalimat, opsi):\n",
    "    # Mendefinisikan penggantian untuk huruf vokal\n",
    "    penggantian_kecil = {'a': '4', 'i': '1', 'u': '|_|', 'e': '3', 'o': '0'}\n",
    "    penggantian_besar = {'A': '4', 'I': '1', 'U': '|_|', 'E': '3', 'O': '0'}\n",
    "    \n",
    "    # Mengganti huruf vokal sesuai dengan opsi\n",
    "    if opsi == 1:\n",
    "        for k, v in penggantian_kecil.items():\n",
    "            kalimat = kalimat.replace(k, v)\n",
    "    elif opsi == 2:\n",
    "        for k, v in penggantian_besar.items():\n",
    "            kalimat = kalimat.replace(k, v)\n",
    "    \n",
    "    return kalimat\n",
    "\n",
    "# Contoh uji\n",
    "print(ganti_vokal(\"Aku Cinta Kamu\", 1))  # Output: \"4k|_| C1nt4 K4m|_|\"\n",
    "print(ganti_vokal(\"Aku Cinta Kamu\", 2))  # Output: \"4ku Cinta K a mu\"\n"
   ]
  },
  {
   "cell_type": "code",
   "execution_count": 11,
   "id": "072f8a2e-fed3-4782-a0ae-7017db16a594",
   "metadata": {},
   "outputs": [
    {
     "name": "stdout",
     "output_type": "stream",
     "text": [
      "UKA ATNIC UMAK\n",
      "PYTHON HARI BELAJAR SEDANG INI\n",
      "Ak|_| C1nt4 K4m|_|\n",
      "4ku Cinta Kamu\n"
     ]
    }
   ],
   "source": [
    "# Uji semua function\n",
    "print(reverse_per_kata(\"AKU CINTA KAMU\"))  # Output: \"UKA ATNIC UMAK\"\n",
    "print(urutkan_kalimat(\"HARI INI SEDANG BELAJAR PYTHON\", [5, 1, 4, 3, 2]))  # Output: \"PYTHON HARI BELAJAR SEDANG INI\"\n",
    "print(ganti_vokal(\"Aku Cinta Kamu\", 1))  # Output: \"4k|_| C1nt4 K4m|_|\"\n",
    "print(ganti_vokal(\"Aku Cinta Kamu\", 2))  # Output: \"4ku Cinta K a mu\"\n"
   ]
  },
  {
   "cell_type": "code",
   "execution_count": null,
   "id": "8dc6d218-8d04-4c9f-959b-9bb401d848d2",
   "metadata": {},
   "outputs": [],
   "source": []
  }
 ],
 "metadata": {
  "kernelspec": {
   "display_name": "Python [conda env:base] *",
   "language": "python",
   "name": "conda-base-py"
  },
  "language_info": {
   "codemirror_mode": {
    "name": "ipython",
    "version": 3
   },
   "file_extension": ".py",
   "mimetype": "text/x-python",
   "name": "python",
   "nbconvert_exporter": "python",
   "pygments_lexer": "ipython3",
   "version": "3.12.7"
  }
 },
 "nbformat": 4,
 "nbformat_minor": 5
}
