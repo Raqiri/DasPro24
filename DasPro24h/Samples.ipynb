{
 "cells": [
  {
   "cell_type": "code",
   "execution_count": 13,
   "id": "517d05a6-4da5-4065-970d-984af7fd9b6c",
   "metadata": {},
   "outputs": [
    {
     "data": {
      "text/plain": [
       "(  ID_Mahasiswa  Umur Jenis_Kelamin   IPK      Jurusan  Jumlah_SKS  \\\n",
       " 0        S0001    25     Laki-laki  2.61   Management          34   \n",
       " 1        S0002    19     Laki-laki  2.89         PGSD          39   \n",
       " 2        S0003    21     Perempuan  3.13          DKV           6   \n",
       " 3        S0004    28     Perempuan  3.45  Informatika          37   \n",
       " 4        S0005    25     Laki-laki  3.59          DKV          10   \n",
       " \n",
       "    Jumlah_kehadiran Kerja_Sampingan Beasiswa  Lulus_Tepat_Waktu  \n",
       " 0              0.99             Iya    Tidak                  0  \n",
       " 1              0.62           Tidak    Tidak                  1  \n",
       " 2              0.66           Tidak    Tidak                  1  \n",
       " 3              0.68           Tidak    Tidak                  1  \n",
       " 4              0.84           Tidak      Iya                  1  ,\n",
       "        ID_Mahasiswa         Umur Jenis_Kelamin          IPK      Jurusan  \\\n",
       " count          1000  1000.000000          1000  1000.000000         1000   \n",
       " unique         1000          NaN             2          NaN            5   \n",
       " top           S0001          NaN     Perempuan          NaN  Informatika   \n",
       " freq              1          NaN           501          NaN          213   \n",
       " mean            NaN    23.033000           NaN     2.984020          NaN   \n",
       " std             NaN     3.828913           NaN     0.488077          NaN   \n",
       " min             NaN    17.000000           NaN     1.570000          NaN   \n",
       " 25%             NaN    20.000000           NaN     2.650000          NaN   \n",
       " 50%             NaN    23.000000           NaN     2.970000          NaN   \n",
       " 75%             NaN    26.000000           NaN     3.322500          NaN   \n",
       " max             NaN    29.000000           NaN     4.630000          NaN   \n",
       " \n",
       "          Jumlah_SKS  Jumlah_kehadiran Kerja_Sampingan Beasiswa  \\\n",
       " count   1000.000000       1000.000000            1000     1000   \n",
       " unique          NaN               NaN               2        2   \n",
       " top             NaN               NaN           Tidak    Tidak   \n",
       " freq            NaN               NaN             503      680   \n",
       " mean      21.942000          0.748050             NaN      NaN   \n",
       " std       10.093092          0.144728             NaN      NaN   \n",
       " min        5.000000          0.500000             NaN      NaN   \n",
       " 25%       13.000000          0.620000             NaN      NaN   \n",
       " 50%       22.000000          0.750000             NaN      NaN   \n",
       " 75%       31.000000          0.870000             NaN      NaN   \n",
       " max       39.000000          1.000000             NaN      NaN   \n",
       " \n",
       "         Lulus_Tepat_Waktu  \n",
       " count         1000.000000  \n",
       " unique                NaN  \n",
       " top                   NaN  \n",
       " freq                  NaN  \n",
       " mean             0.764000  \n",
       " std              0.424835  \n",
       " min              0.000000  \n",
       " 25%              1.000000  \n",
       " 50%              1.000000  \n",
       " 75%              1.000000  \n",
       " max              1.000000  )"
      ]
     },
     "execution_count": 13,
     "metadata": {},
     "output_type": "execute_result"
    }
   ],
   "source": [
    "import pandas as pd\n",
    "import numpy as np\n",
    "n_samples = 1000\n",
    "\n",
    "Data_Mahasiswa = {\n",
    "    \"ID_Mahasiswa\": [f\"S{str(i).zfill(4)}\" for i in range(1, n_samples + 1)],\n",
    "    \"Umur\": np.random.randint(17, 30, n_samples),\n",
    "    \"Jenis_Kelamin\": np.random.choice([\"Laki-laki\", \"Perempuan\"], n_samples),\n",
    "    \"IPK\": np.round(np.random.normal(3.0, 0.5, n_samples), 2), \n",
    "    \"Jurusan\": np.random.choice([\"Informatika\", \"Management\", \"DKV\", \"PGSD\", \"Hukum\"], n_samples),\n",
    "    \"Jumlah_SKS\": np.random.randint(5, 40, n_samples),\n",
    "    \"Jumlah_kehadiran\": np.round(np.random.uniform(0.5, 1.0, n_samples), 2), \n",
    "    \"Kerja_Sampingan\": np.random.choice([\"Iya\", \"Tidak\"], n_samples),\n",
    "    \"Beasiswa\": np.random.choice([\"Iya\", \"Tidak\"], n_samples, p=[0.3, 0.7]),\n",
    "    \"Lulus_Tepat_Waktu\": np.random.choice([1, 0], n_samples, p=[0.75, 0.25]) \n",
    "}\n",
    "\n",
    "Mahasiswa_df = pd.DataFrame(Data_Mahasiswa)\n",
    "\n",
    "Mahasiswa_df = Mahasiswa_df.round(2)\n",
    "\n",
    "Mahasiswa_df.head(), Statistik_Mahasiswa\n"
   ]
  },
  {
   "cell_type": "code",
   "execution_count": null,
   "id": "4596de86-0abc-4065-b4f6-900a59dfe9c8",
   "metadata": {},
   "outputs": [],
   "source": []
  },
  {
   "cell_type": "code",
   "execution_count": null,
   "id": "6c558c71-5fa4-4ef6-8aa6-572256cf4034",
   "metadata": {},
   "outputs": [],
   "source": []
  }
 ],
 "metadata": {
  "kernelspec": {
   "display_name": "Python [conda env:base] *",
   "language": "python",
   "name": "conda-base-py"
  },
  "language_info": {
   "codemirror_mode": {
    "name": "ipython",
    "version": 3
   },
   "file_extension": ".py",
   "mimetype": "text/x-python",
   "name": "python",
   "nbconvert_exporter": "python",
   "pygments_lexer": "ipython3",
   "version": "3.12.7"
  }
 },
 "nbformat": 4,
 "nbformat_minor": 5
}
