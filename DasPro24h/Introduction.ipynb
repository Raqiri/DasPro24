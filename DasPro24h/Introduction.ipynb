{
 "cells": [
  {
   "cell_type": "markdown",
   "id": "794c3daa-091f-449f-83bb-f522f267d68b",
   "metadata": {},
   "source": [
    "<center> <img src= \"https://img.antaranews.com/cache/1200x800/2024/08/08/057BD57D-4500-4EC2-BC5C-FB4ECF704083.jpeg.webp\" width=\"300\" ></center><br> pada jupyter notesbooks jenis <b>cell</b> terbagi menjadi dua\n",
    "<ol>\n",
    "    <li>M (Mark Down) -> M</li>\n",
    "    <li>Y (Code) -> Y</li>\n",
    "</ol>    \n",
    "<hr>"
   ]
  },
  {
   "cell_type": "markdown",
   "id": "3ed46877-9337-4dfb-9543-873ef38f0299",
   "metadata": {},
   "source": [
    "cara menambahkan <b>cell</b> terbagi menjadi 2:\n",
    "<ul>\n",
    "    <li>A - Above  menambah diatas cell aktif</li>\n",
    "    <li>B - Below menambah dibawah cell aktif</li>\n",
    "</ul>\n",
    "\n",
    "<table>\n",
    "    <tr>\n",
    "        <td>Perintah</td>\n",
    "        <td> keterangan</td>\n",
    "    </tr>\n",
    "    <tr>\n",
    "        <td>ctrl + center</td>\n",
    "        <td>Running program dengan fokus di cell aktif</td>\n",
    "    </tr>\n",
    "    <tr>\n",
    "        <td>shift + enter</td>\n",
    "        <td>Running program dengan fokus di cell berikutnya</td>\n",
    "    </tr>\n",
    "</table>"
   ]
  },
  {
   "cell_type": "code",
   "execution_count": 1,
   "id": "4de71aab-5d60-4b9f-9588-8ad2a8d02d49",
   "metadata": {},
   "outputs": [
    {
     "name": "stdout",
     "output_type": "stream",
     "text": [
      "print is very easy\n",
      "4\n"
     ]
    },
    {
     "data": {
      "text/plain": [
       "'4'"
      ]
     },
     "execution_count": 1,
     "metadata": {},
     "output_type": "execute_result"
    }
   ],
   "source": [
    "#this is comment\n",
    "print(\"print is very easy\")\n",
    "data = \"4\"\n",
    "print(data)\n",
    "data"
   ]
  }
 ],
 "metadata": {
  "kernelspec": {
   "display_name": "Python 3 (ipykernel)",
   "language": "python",
   "name": "python3"
  },
  "language_info": {
   "codemirror_mode": {
    "name": "ipython",
    "version": 3
   },
   "file_extension": ".py",
   "mimetype": "text/x-python",
   "name": "python",
   "nbconvert_exporter": "python",
   "pygments_lexer": "ipython3",
   "version": "3.12.7"
  }
 },
 "nbformat": 4,
 "nbformat_minor": 5
}
