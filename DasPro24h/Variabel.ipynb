{
 "cells": [
  {
   "cell_type": "code",
   "execution_count": 27,
   "id": "9c89cede-a24a-4c07-ad43-adcebed76f2c",
   "metadata": {},
   "outputs": [
    {
     "name": "stdout",
     "output_type": "stream",
     "text": [
      "Nama : Andang#001\n",
      "Alamat : Pochinki Kidul\n",
      "Umur : 0\n",
      "Nilai Pemrograman : 85.7\n",
      "Status Pernikahan : False\n",
      "Provinsi : 312417931\n"
     ]
    }
   ],
   "source": [
    "name = \"Andang#001\"\n",
    "address,province = \"Pochinki Kidul\",\"312417931\"\n",
    "age= 00\n",
    "scorePython = 85.7\n",
    "isMarried = False\n",
    "\n",
    "print(\"Nama :\",name)\n",
    "print(\"Alamat :\",address)\n",
    "print(\"Umur :\",age)\n",
    "print(\"Nilai Pemrograman :\",scorePython)\n",
    "print(\"Status Pernikahan :\",isMarried)\n",
    "print(\"Provinsi :\",province)"
   ]
  },
  {
   "cell_type": "code",
   "execution_count": 12,
   "id": "a19f439d-5f20-4102-93fa-2626fe180631",
   "metadata": {},
   "outputs": [
    {
     "name": "stdout",
     "output_type": "stream",
     "text": [
      "tipe data <name> : <class 'str'>\n",
      "tipe data <address> : <class 'str'>\n",
      "tipe data <age> : <class 'int'>\n",
      "tipe data <scorePython> : <class 'float'>\n",
      "tipe data <isMarried> : <class 'bool'>\n"
     ]
    }
   ],
   "source": [
    "print(\"tipe data <name> :\",type(name))\n",
    "print(\"tipe data <address> :\",type(address))\n",
    "print(\"tipe data <age> :\",type(age))\n",
    "print(\"tipe data <scorePython> :\",type(scorePython))\n",
    "print(\"tipe data <isMarried> :\",type(isMarried))"
   ]
  },
  {
   "cell_type": "code",
   "execution_count": 45,
   "id": "db209be0-49ac-4592-9e74-57951ed081d3",
   "metadata": {},
   "outputs": [
    {
     "name": "stdout",
     "output_type": "stream",
     "text": [
      "312417933-312417931.0-True\n",
      "0-0.0-False\n",
      "85_85.7_True\n",
      "0_False_0.0\n"
     ]
    }
   ],
   "source": [
    "#Casting / KOnversi Tipe Data\n",
    "#1. String ke (int,float,boolean)\n",
    "strToInt = int(province)\n",
    "strToFloat = float(province)\n",
    "strToBool = bool(province)\n",
    "print(strToInt + 2,strToFloat,strToBool, sep=\"-\")\n",
    "\n",
    "#2. Int ke (str,float,boolean)\n",
    "intToStr = str(age)\n",
    "intToFloat = float(age)\n",
    "intToBool = bool(age)\n",
    "print(intToStr,intToFloat,intToBool, sep=\"-\") \n",
    "\n",
    "#3. float ke (int,str,boolean)\n",
    "floatToInt = int(scorePython)\n",
    "floatToStr = str(scorePython)\n",
    "floatToBool = bool(scorePython)\n",
    "print(floatToInt, floatToStr, floatToBool, sep=\"_\")\n",
    "\n",
    "#4. boolean ke (int,str,float)\n",
    "boolToInt = int(isMarried)\n",
    "boolToStr = str(isMarried)\n",
    "boolToFloat = float(isMarried)\n",
    "print(boolToInt, boolToStr, boolToFloat, sep=\"_\")"
   ]
  },
  {
   "cell_type": "code",
   "execution_count": 59,
   "id": "95cd7eee-256b-4d0d-b894-70428687a234",
   "metadata": {},
   "outputs": [
    {
     "name": "stdout",
     "output_type": "stream",
     "text": [
      "nilai desimal : 500\n",
      "nilai biner : 10\n",
      "nilai octal : 255\n",
      "nilai hexa : 255\n",
      "nilai biner dari  500 : 0b111110100\n",
      "nilai octal dari  500 : 0o764\n",
      "nilai hexa dari  500 : 0x1f4\n"
     ]
    }
   ],
   "source": [
    "#tipe data basis bilangan (desimal,biner,octal, hexa)\n",
    "\n",
    "desimal = 500\n",
    "biner = 0b1010 #10\n",
    "octal = 0o377 #255\n",
    "hexa = 0xff #255\n",
    "\n",
    "print(\"nilai desimal :\",desimal)\n",
    "print(\"nilai biner :\",biner)\n",
    "print(\"nilai octal :\",octal)\n",
    "print(\"nilai hexa :\",hexa)\n",
    "\n",
    "print(\"nilai biner dari \",desimal, \":\",bin(desimal))\n",
    "print(\"nilai octal dari \",desimal, \":\",oct(desimal))\n",
    "print(\"nilai hexa dari \",desimal, \":\",hex(desimal))"
   ]
  },
  {
   "cell_type": "code",
   "execution_count": 67,
   "id": "25a6c893-27c3-477d-b1bd-eeac395cec79",
   "metadata": {},
   "outputs": [
    {
     "name": "stdout",
     "output_type": "stream",
     "text": [
      "j\n",
      "7\n",
      "a\n"
     ]
    }
   ],
   "source": [
    "city = \"jakarta\"\n",
    "length = len(city)\n",
    "print(city[0])\n",
    "print(length)\n",
    "print(city[length-1])"
   ]
  },
  {
   "cell_type": "code",
   "execution_count": 119,
   "id": "4759120d-512d-4c5e-8f40-0a42d45bd34c",
   "metadata": {
    "scrolled": true
   },
   "outputs": [
    {
     "name": "stdout",
     "output_type": "stream",
     "text": [
      "['bandung', 'sukabumi', 'bogor', 'jakarta', 'medan']\n",
      "bandung\n",
      "medan\n",
      "m\n",
      "n\n",
      "['bali', 'sukabumi', 'bogor', 'jakarta', 'medan']\n",
      "('andi', 'ferdi', 'raihan')\n",
      "ferdi\n",
      "{'name': 'robi', 'age': 25, 'address': {'street': 'Cisaat', 'number': 21, 'province': 'jawa barat'}, 'isMarried': True, 'hobbies': ['BasketBall, FootBall']}\n",
      "25\n",
      "jawa barat\n",
      "BasketBall, FootBall\n",
      "{'name': 'asep', 'age': 23, 'address': {'street': 'Cibatu', 'number': 19, 'province': 'jawa timur'}, 'isMarried': False, 'hobbies': ['Cooking, playing video games']}\n",
      "sumatra barat\n"
     ]
    }
   ],
   "source": [
    "#tipe data collection\n",
    "cities = [\"bandung\",\"sukabumi\",\"bogor\",\"jakarta\",\"medan\"]\n",
    "print(cities)\n",
    "lengthCities = len(cities)\n",
    "print(cities[0])\n",
    "print(cities[lengthCities-1])\n",
    "print(cities[lengthCities-1][0])\n",
    "print(cities[lengthCities-1][len(cities[lengthCities-1])-1])\n",
    "cities[0] = \"bali\"\n",
    "#cities[5] = \"malang\" akan menyebabkan error\n",
    "print(cities)\n",
    "\n",
    "names = (\"andi\",\"ferdi\",\"raihan\")\n",
    "print(names)\n",
    "print(names[1])\n",
    "#names[0] = \"dedi\" eeror immutable tuple\n",
    "\n",
    "studentData = {\n",
    "    \"name\" : \"robi\",\n",
    "    \"age\" : 25,\n",
    "    \"address\" : {\n",
    "        \"street\" : \"Cisaat\",\n",
    "        \"number\" : 21,\n",
    "        \"province\" : \"jawa barat\"\n",
    "    },\n",
    "    \"isMarried\" : True,\n",
    "    \"hobbies\" : [\"BasketBall, FootBall\"]\n",
    "}    \n",
    "\n",
    "print(studentData)\n",
    "print(studentData[\"age\"])\n",
    "print(studentData[\"address\"][\"province\"])\n",
    "print(studentData[\"hobbies\"][0])\n",
    "\n",
    "studentList = [\n",
    "     {\n",
    "    \"name\" : \"robi\",\n",
    "    \"age\" : 25,\n",
    "    \"address\" : {\n",
    "        \"street\" : \"Cisaat\",\n",
    "        \"number\" : 21,\n",
    "        \"province\" : \"jawa barat\"\n",
    "    },\n",
    "    \"isMarried\" : True,\n",
    "    \"hobbies\" : [\"BasketBall, FootBall\"]\n",
    "},\n",
    "     {\n",
    "    \"name\" : \"asep\",\n",
    "    \"age\" : 23,\n",
    "    \"address\" : {\n",
    "        \"street\" : \"Cibatu\",\n",
    "        \"number\" : 19,\n",
    "        \"province\" : \"jawa timur\"\n",
    "    },\n",
    "    \"isMarried\" : False,\n",
    "    \"hobbies\" : [\"Cooking, playing video games\"]\n",
    "},   \n",
    "     {\n",
    "    \"name\" : \"joko\",\n",
    "    \"age\" : 27,\n",
    "    \"address\" : {\n",
    "        \"street\" : \"Cisaat\",\n",
    "        \"number\" : 21,\n",
    "        \"province\" : \"sumatra barat\"\n",
    "    },\n",
    "    \"isMarried\" : False,\n",
    "    \"hobbies\" : [\"Tawuran, chess\"]\n",
    "}    \n",
    "]\n",
    "\n",
    "print(studentList[1])\n",
    "print(studentList[2][\"address\"][\"province\"])"
   ]
  },
  {
   "cell_type": "code",
   "execution_count": 133,
   "id": "5a75f0e1-6a9b-474e-bb32-cf5928cfe28a",
   "metadata": {},
   "outputs": [
    {
     "name": "stdout",
     "output_type": "stream",
     "text": [
      "{'name': 'anton', 'age': 30, 'status': True}\n",
      "{'name': 'anton', 'address': 'bogor'}\n",
      "{'name': 'whale', 'type': 'mamalia'}\n",
      "{'name': 'crocodile', 'type': 'reptile'}\n",
      "{'vehicle': 'car', 'brand': 'BMW', 'cc': 2500}\n"
     ]
    }
   ],
   "source": [
    "#konversi dictionary\n",
    "\n",
    "list_list = [[\"name\", \"anton\"],[\"age\", 30],[\"status\", True]]\n",
    "dictListStudent = dict(list_list)\n",
    "print(dictListStudent)\n",
    "\n",
    "list_tuple = [(\"name\",\"anton\"),(\"address\",\"bogor\")]\n",
    "dictTupleStudent = dict(list_tuple)\n",
    "print(dictTupleStudent)\n",
    "\n",
    "tuple_list = ([\"name\",\"whale\"],[\"type\",\"mamalia\"])\n",
    "dictListAnimal = dict(tuple_list)\n",
    "print(dictListAnimal)\n",
    "\n",
    "tuple_tuple = ((\"name\",\"crocodile\"),(\"type\",\"reptile\"))\n",
    "dictTupleAnimal = dict(tuple_tuple)\n",
    "print(dictTupleAnimal)\n",
    "\n",
    "keys = [\"vehicle\",\"brand\",\"cc\"]\n",
    "values = [\"car\",\"BMW\",2500]\n",
    "car = dict(zip(keys,values))\n",
    "print(car)"
   ]
  },
  {
   "cell_type": "code",
   "execution_count": null,
   "id": "6f396e1b-e792-420f-b33a-09d7bdb3c33e",
   "metadata": {},
   "outputs": [],
   "source": []
  }
 ],
 "metadata": {
  "kernelspec": {
   "display_name": "Python [conda env:base] *",
   "language": "python",
   "name": "conda-base-py"
  },
  "language_info": {
   "codemirror_mode": {
    "name": "ipython",
    "version": 3
   },
   "file_extension": ".py",
   "mimetype": "text/x-python",
   "name": "python",
   "nbconvert_exporter": "python",
   "pygments_lexer": "ipython3",
   "version": "3.12.7"
  }
 },
 "nbformat": 4,
 "nbformat_minor": 5
}
