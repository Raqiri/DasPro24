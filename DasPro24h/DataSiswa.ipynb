{
 "cells": [
  {
   "cell_type": "code",
   "execution_count": 7,
   "id": "70f48d75-1dee-48f9-827d-2fee2f88d248",
   "metadata": {},
   "outputs": [
    {
     "name": "stdout",
     "output_type": "stream",
     "text": [
      "Menu Program Data Mahasiswa\n",
      "1. Tambah Data\n",
      "2. Tampilkan Data\n",
      "3. Keluar\n"
     ]
    },
    {
     "name": "stdin",
     "output_type": "stream",
     "text": [
      "Pilih menu (1/2/3):  1\n",
      "Masukkan NIM:  20240040116\n",
      "Masukkan Nama:  andang\n",
      "Masukkan Alamat:  ahmad yani\n",
      "Masukkan Kelas:  TI24H\n"
     ]
    },
    {
     "name": "stdout",
     "output_type": "stream",
     "text": [
      "Data telah ditambahkan!\n",
      "Menu Program Data Mahasiswa\n",
      "1. Tambah Data\n",
      "2. Tampilkan Data\n",
      "3. Keluar\n"
     ]
    },
    {
     "name": "stdin",
     "output_type": "stream",
     "text": [
      "Pilih menu (1/2/3):  2\n"
     ]
    },
    {
     "name": "stdout",
     "output_type": "stream",
     "text": [
      "Daftar Mahasiswa: \n",
      "NIM: 20240040116, Nama: andang, Alamat: ahmad yani, Kelas: TI24H\n",
      "NIM: 20240040116, Nama: andang, Alamat: ahmad yani 182, Kelas: TI24H\n",
      "NIM: 20240040116, Nama: andang, Alamat: ahmad yani, Kelas: TI24H\n",
      "\n",
      "Menu Program Data Mahasiswa\n",
      "1. Tambah Data\n",
      "2. Tampilkan Data\n",
      "3. Keluar\n"
     ]
    },
    {
     "name": "stdin",
     "output_type": "stream",
     "text": [
      "Pilih menu (1/2/3):  3\n"
     ]
    },
    {
     "name": "stdout",
     "output_type": "stream",
     "text": [
      "Keluar dari program.\n"
     ]
    }
   ],
   "source": [
    "def validasi_input(nim, nama, alamat, kelas):\n",
    "\n",
    "    if not (nim.isdigit() and len(nim) == 11):\n",
    "        raise ValueError(\"NIM harus 11 digit angka.\")\n",
    "    if len(nama) < 6:\n",
    "        raise ValueError(\"Nama minimal 6 karakter.\")\n",
    "    if len(alamat) < 10:\n",
    "        raise ValueError(\"Alamat minimal 10 karakter.\")\n",
    "    if kelas not in [\"TI24H\", \"TI24A\", \"TI24G\", \"TI24F\"]:\n",
    "        raise ValueError(\"Kelas hanya boleh TI24H, TI24A, TI24G, TI24F.\")\n",
    "\n",
    "def tambah_data():\n",
    "    try:\n",
    "        nim = input(\"Masukkan NIM: \")\n",
    "        nama = input(\"Masukkan Nama: \")\n",
    "        alamat = input(\"Masukkan Alamat: \")\n",
    "        kelas = input(\"Masukkan Kelas: \")\n",
    "\n",
    "        validasi_input(nim, nama, alamat, kelas)\n",
    "\n",
    "        with open(FILENAME, \"a\") as file:\n",
    "            file.write(f\"{nim},{nama},{alamat},{kelas}\")\n",
    "        print(\"Data telah ditambahkan!\")\n",
    "\n",
    "    except ValueError as ve:\n",
    "        print(f\"Input tidak valid: {ve}\")\n",
    "    except Exception as e:\n",
    "        print(f\"Terjadi kesalahan: {e}\")\n",
    "\n",
    "def tampilkan_data():\n",
    "    if not os.path.exists(FILENAME):\n",
    "        print(\"Belum ada data yang tersimpan.\")\n",
    "        return\n",
    "\n",
    "    try:\n",
    "        with open(FILENAME, \"r\") as file:\n",
    "            lines = file.readlines()\n",
    "            if not lines:\n",
    "                print(\"Data kosong. \")\n",
    "                return\n",
    "\n",
    "            print(\"Daftar Mahasiswa: \")\n",
    "            for line in lines:\n",
    "                nim, nama, alamat, kelas = line.strip().split(\",\")\n",
    "                print(f\"NIM: {nim}, Nama: {nama}, Alamat: {alamat}, Kelas: {kelas}\")\n",
    "            print()\n",
    "    except Exception as e:\n",
    "        print(f\"Gagal membaca file: {e}\")\n",
    "\n",
    "def menu():\n",
    "    while True:\n",
    "        print(\"Menu Program Data Mahasiswa\")\n",
    "        print(\"1. Tambah Data\")\n",
    "        print(\"2. Tampilkan Data\")\n",
    "        print(\"3. Keluar\")\n",
    "\n",
    "        pilihan = input(\"Pilih menu (1/2/3): \")\n",
    "        if pilihan == \"1\":\n",
    "            tambah_data()\n",
    "        elif pilihan == \"2\":\n",
    "            tampilkan_data()\n",
    "        elif pilihan == \"3\":\n",
    "            print(\"Keluar dari program.\")\n",
    "            break\n",
    "        else:\n",
    "            print(\"Pilihan tidak valid.\")\n",
    "\n",
    "menu()"
   ]
  },
  {
   "cell_type": "code",
   "execution_count": null,
   "id": "e3c92ee1-45f0-4ed2-871e-3ff978f85e72",
   "metadata": {},
   "outputs": [],
   "source": []
  }
 ],
 "metadata": {
  "kernelspec": {
   "display_name": "Python [conda env:base] *",
   "language": "python",
   "name": "conda-base-py"
  },
  "language_info": {
   "codemirror_mode": {
    "name": "ipython",
    "version": 3
   },
   "file_extension": ".py",
   "mimetype": "text/x-python",
   "name": "python",
   "nbconvert_exporter": "python",
   "pygments_lexer": "ipython3",
   "version": "3.12.7"
  }
 },
 "nbformat": 4,
 "nbformat_minor": 5
}
